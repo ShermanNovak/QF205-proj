{
 "cells": [
  {
   "cell_type": "code",
   "execution_count": null,
   "metadata": {},
   "outputs": [
    {
     "name": "stderr",
     "output_type": "stream",
     "text": [
      "[*********************100%%**********************]  2 of 2 completed\n"
     ]
    },
    {
     "data": {
      "text/html": [
       "<div>\n",
       "<style scoped>\n",
       "    .dataframe tbody tr th:only-of-type {\n",
       "        vertical-align: middle;\n",
       "    }\n",
       "\n",
       "    .dataframe tbody tr th {\n",
       "        vertical-align: top;\n",
       "    }\n",
       "\n",
       "    .dataframe thead tr th {\n",
       "        text-align: left;\n",
       "    }\n",
       "\n",
       "    .dataframe thead tr:last-of-type th {\n",
       "        text-align: right;\n",
       "    }\n",
       "</style>\n",
       "<table border=\"1\" class=\"dataframe\">\n",
       "  <thead>\n",
       "    <tr>\n",
       "      <th>Price</th>\n",
       "      <th colspan=\"2\" halign=\"left\">Adj Close</th>\n",
       "      <th colspan=\"2\" halign=\"left\">Close</th>\n",
       "      <th colspan=\"2\" halign=\"left\">High</th>\n",
       "      <th colspan=\"2\" halign=\"left\">Low</th>\n",
       "      <th colspan=\"2\" halign=\"left\">Open</th>\n",
       "      <th colspan=\"2\" halign=\"left\">Volume</th>\n",
       "    </tr>\n",
       "    <tr>\n",
       "      <th>Ticker</th>\n",
       "      <th>AAPL</th>\n",
       "      <th>GOOG</th>\n",
       "      <th>AAPL</th>\n",
       "      <th>GOOG</th>\n",
       "      <th>AAPL</th>\n",
       "      <th>GOOG</th>\n",
       "      <th>AAPL</th>\n",
       "      <th>GOOG</th>\n",
       "      <th>AAPL</th>\n",
       "      <th>GOOG</th>\n",
       "      <th>AAPL</th>\n",
       "      <th>GOOG</th>\n",
       "    </tr>\n",
       "    <tr>\n",
       "      <th>Date</th>\n",
       "      <th></th>\n",
       "      <th></th>\n",
       "      <th></th>\n",
       "      <th></th>\n",
       "      <th></th>\n",
       "      <th></th>\n",
       "      <th></th>\n",
       "      <th></th>\n",
       "      <th></th>\n",
       "      <th></th>\n",
       "      <th></th>\n",
       "      <th></th>\n",
       "    </tr>\n",
       "  </thead>\n",
       "  <tbody>\n",
       "    <tr>\n",
       "      <th>2023-01-03</th>\n",
       "      <td>124.216301</td>\n",
       "      <td>89.699997</td>\n",
       "      <td>125.070000</td>\n",
       "      <td>89.699997</td>\n",
       "      <td>130.899994</td>\n",
       "      <td>91.550003</td>\n",
       "      <td>124.169998</td>\n",
       "      <td>89.019997</td>\n",
       "      <td>130.279999</td>\n",
       "      <td>89.830002</td>\n",
       "      <td>112117500</td>\n",
       "      <td>20738500</td>\n",
       "    </tr>\n",
       "    <tr>\n",
       "      <th>2023-01-04</th>\n",
       "      <td>125.497498</td>\n",
       "      <td>88.709999</td>\n",
       "      <td>126.360001</td>\n",
       "      <td>88.709999</td>\n",
       "      <td>128.660004</td>\n",
       "      <td>91.239998</td>\n",
       "      <td>125.080002</td>\n",
       "      <td>87.800003</td>\n",
       "      <td>126.889999</td>\n",
       "      <td>91.010002</td>\n",
       "      <td>89113600</td>\n",
       "      <td>27046500</td>\n",
       "    </tr>\n",
       "    <tr>\n",
       "      <th>2023-01-05</th>\n",
       "      <td>124.166641</td>\n",
       "      <td>86.769997</td>\n",
       "      <td>125.019997</td>\n",
       "      <td>86.769997</td>\n",
       "      <td>127.769997</td>\n",
       "      <td>88.209999</td>\n",
       "      <td>124.760002</td>\n",
       "      <td>86.559998</td>\n",
       "      <td>127.129997</td>\n",
       "      <td>88.070000</td>\n",
       "      <td>80962700</td>\n",
       "      <td>23136100</td>\n",
       "    </tr>\n",
       "    <tr>\n",
       "      <th>2023-01-06</th>\n",
       "      <td>128.735229</td>\n",
       "      <td>88.160004</td>\n",
       "      <td>129.619995</td>\n",
       "      <td>88.160004</td>\n",
       "      <td>130.289993</td>\n",
       "      <td>88.470001</td>\n",
       "      <td>124.889999</td>\n",
       "      <td>85.570000</td>\n",
       "      <td>126.010002</td>\n",
       "      <td>87.360001</td>\n",
       "      <td>87754700</td>\n",
       "      <td>26612600</td>\n",
       "    </tr>\n",
       "    <tr>\n",
       "      <th>2023-01-09</th>\n",
       "      <td>129.261612</td>\n",
       "      <td>88.800003</td>\n",
       "      <td>130.149994</td>\n",
       "      <td>88.800003</td>\n",
       "      <td>133.410004</td>\n",
       "      <td>90.830002</td>\n",
       "      <td>129.889999</td>\n",
       "      <td>88.580002</td>\n",
       "      <td>130.470001</td>\n",
       "      <td>89.195000</td>\n",
       "      <td>70790800</td>\n",
       "      <td>22996700</td>\n",
       "    </tr>\n",
       "    <tr>\n",
       "      <th>...</th>\n",
       "      <td>...</td>\n",
       "      <td>...</td>\n",
       "      <td>...</td>\n",
       "      <td>...</td>\n",
       "      <td>...</td>\n",
       "      <td>...</td>\n",
       "      <td>...</td>\n",
       "      <td>...</td>\n",
       "      <td>...</td>\n",
       "      <td>...</td>\n",
       "      <td>...</td>\n",
       "      <td>...</td>\n",
       "    </tr>\n",
       "    <tr>\n",
       "      <th>2023-12-22</th>\n",
       "      <td>193.353287</td>\n",
       "      <td>142.720001</td>\n",
       "      <td>193.600006</td>\n",
       "      <td>142.720001</td>\n",
       "      <td>195.410004</td>\n",
       "      <td>143.250000</td>\n",
       "      <td>192.970001</td>\n",
       "      <td>142.054993</td>\n",
       "      <td>195.179993</td>\n",
       "      <td>142.130005</td>\n",
       "      <td>37122800</td>\n",
       "      <td>18494700</td>\n",
       "    </tr>\n",
       "    <tr>\n",
       "      <th>2023-12-26</th>\n",
       "      <td>192.803986</td>\n",
       "      <td>142.820007</td>\n",
       "      <td>193.050003</td>\n",
       "      <td>142.820007</td>\n",
       "      <td>193.889999</td>\n",
       "      <td>143.945007</td>\n",
       "      <td>192.830002</td>\n",
       "      <td>142.500000</td>\n",
       "      <td>193.610001</td>\n",
       "      <td>142.979996</td>\n",
       "      <td>28919300</td>\n",
       "      <td>11170100</td>\n",
       "    </tr>\n",
       "    <tr>\n",
       "      <th>2023-12-27</th>\n",
       "      <td>192.903839</td>\n",
       "      <td>141.440002</td>\n",
       "      <td>193.149994</td>\n",
       "      <td>141.440002</td>\n",
       "      <td>193.500000</td>\n",
       "      <td>143.320007</td>\n",
       "      <td>191.089996</td>\n",
       "      <td>141.050995</td>\n",
       "      <td>192.490005</td>\n",
       "      <td>142.830002</td>\n",
       "      <td>48087700</td>\n",
       "      <td>17288400</td>\n",
       "    </tr>\n",
       "    <tr>\n",
       "      <th>2023-12-28</th>\n",
       "      <td>193.333298</td>\n",
       "      <td>141.279999</td>\n",
       "      <td>193.580002</td>\n",
       "      <td>141.279999</td>\n",
       "      <td>194.660004</td>\n",
       "      <td>142.270004</td>\n",
       "      <td>193.169998</td>\n",
       "      <td>140.828003</td>\n",
       "      <td>194.139999</td>\n",
       "      <td>141.850006</td>\n",
       "      <td>34049900</td>\n",
       "      <td>12192500</td>\n",
       "    </tr>\n",
       "    <tr>\n",
       "      <th>2023-12-29</th>\n",
       "      <td>192.284637</td>\n",
       "      <td>140.929993</td>\n",
       "      <td>192.529999</td>\n",
       "      <td>140.929993</td>\n",
       "      <td>194.399994</td>\n",
       "      <td>141.434998</td>\n",
       "      <td>191.729996</td>\n",
       "      <td>139.899994</td>\n",
       "      <td>193.899994</td>\n",
       "      <td>140.679993</td>\n",
       "      <td>42628800</td>\n",
       "      <td>14872700</td>\n",
       "    </tr>\n",
       "  </tbody>\n",
       "</table>\n",
       "<p>250 rows × 12 columns</p>\n",
       "</div>"
      ],
      "text/plain": [
       "Price        Adj Close                   Close                    High  \\\n",
       "Ticker            AAPL        GOOG        AAPL        GOOG        AAPL   \n",
       "Date                                                                     \n",
       "2023-01-03  124.216301   89.699997  125.070000   89.699997  130.899994   \n",
       "2023-01-04  125.497498   88.709999  126.360001   88.709999  128.660004   \n",
       "2023-01-05  124.166641   86.769997  125.019997   86.769997  127.769997   \n",
       "2023-01-06  128.735229   88.160004  129.619995   88.160004  130.289993   \n",
       "2023-01-09  129.261612   88.800003  130.149994   88.800003  133.410004   \n",
       "...                ...         ...         ...         ...         ...   \n",
       "2023-12-22  193.353287  142.720001  193.600006  142.720001  195.410004   \n",
       "2023-12-26  192.803986  142.820007  193.050003  142.820007  193.889999   \n",
       "2023-12-27  192.903839  141.440002  193.149994  141.440002  193.500000   \n",
       "2023-12-28  193.333298  141.279999  193.580002  141.279999  194.660004   \n",
       "2023-12-29  192.284637  140.929993  192.529999  140.929993  194.399994   \n",
       "\n",
       "Price                          Low                    Open              \\\n",
       "Ticker            GOOG        AAPL        GOOG        AAPL        GOOG   \n",
       "Date                                                                     \n",
       "2023-01-03   91.550003  124.169998   89.019997  130.279999   89.830002   \n",
       "2023-01-04   91.239998  125.080002   87.800003  126.889999   91.010002   \n",
       "2023-01-05   88.209999  124.760002   86.559998  127.129997   88.070000   \n",
       "2023-01-06   88.470001  124.889999   85.570000  126.010002   87.360001   \n",
       "2023-01-09   90.830002  129.889999   88.580002  130.470001   89.195000   \n",
       "...                ...         ...         ...         ...         ...   \n",
       "2023-12-22  143.250000  192.970001  142.054993  195.179993  142.130005   \n",
       "2023-12-26  143.945007  192.830002  142.500000  193.610001  142.979996   \n",
       "2023-12-27  143.320007  191.089996  141.050995  192.490005  142.830002   \n",
       "2023-12-28  142.270004  193.169998  140.828003  194.139999  141.850006   \n",
       "2023-12-29  141.434998  191.729996  139.899994  193.899994  140.679993   \n",
       "\n",
       "Price          Volume            \n",
       "Ticker           AAPL      GOOG  \n",
       "Date                             \n",
       "2023-01-03  112117500  20738500  \n",
       "2023-01-04   89113600  27046500  \n",
       "2023-01-05   80962700  23136100  \n",
       "2023-01-06   87754700  26612600  \n",
       "2023-01-09   70790800  22996700  \n",
       "...               ...       ...  \n",
       "2023-12-22   37122800  18494700  \n",
       "2023-12-26   28919300  11170100  \n",
       "2023-12-27   48087700  17288400  \n",
       "2023-12-28   34049900  12192500  \n",
       "2023-12-29   42628800  14872700  \n",
       "\n",
       "[250 rows x 12 columns]"
      ]
     },
     "execution_count": 3,
     "metadata": {},
     "output_type": "execute_result"
    }
   ],
   "source": [
    "import yfinance as yf\n",
    "data = yf.download([\"AAPL\", \"GOOG\"], start=\"2023-01-01\", end=\"2024-01-01\")\n",
    "data"
   ]
  },
  {
   "cell_type": "code",
   "execution_count": null,
   "metadata": {},
   "outputs": [
    {
     "data": {
      "text/html": [
       "<div>\n",
       "<style scoped>\n",
       "    .dataframe tbody tr th:only-of-type {\n",
       "        vertical-align: middle;\n",
       "    }\n",
       "\n",
       "    .dataframe tbody tr th {\n",
       "        vertical-align: top;\n",
       "    }\n",
       "\n",
       "    .dataframe thead th {\n",
       "        text-align: right;\n",
       "    }\n",
       "</style>\n",
       "<table border=\"1\" class=\"dataframe\">\n",
       "  <thead>\n",
       "    <tr style=\"text-align: right;\">\n",
       "      <th>Ticker</th>\n",
       "      <th>AAPL</th>\n",
       "      <th>GOOG</th>\n",
       "    </tr>\n",
       "    <tr>\n",
       "      <th>Date</th>\n",
       "      <th></th>\n",
       "      <th></th>\n",
       "    </tr>\n",
       "  </thead>\n",
       "  <tbody>\n",
       "    <tr>\n",
       "      <th>2023-01-03</th>\n",
       "      <td>124.216301</td>\n",
       "      <td>89.699997</td>\n",
       "    </tr>\n",
       "    <tr>\n",
       "      <th>2023-01-04</th>\n",
       "      <td>125.497498</td>\n",
       "      <td>88.709999</td>\n",
       "    </tr>\n",
       "    <tr>\n",
       "      <th>2023-01-05</th>\n",
       "      <td>124.166641</td>\n",
       "      <td>86.769997</td>\n",
       "    </tr>\n",
       "    <tr>\n",
       "      <th>2023-01-06</th>\n",
       "      <td>128.735229</td>\n",
       "      <td>88.160004</td>\n",
       "    </tr>\n",
       "    <tr>\n",
       "      <th>2023-01-09</th>\n",
       "      <td>129.261612</td>\n",
       "      <td>88.800003</td>\n",
       "    </tr>\n",
       "    <tr>\n",
       "      <th>...</th>\n",
       "      <td>...</td>\n",
       "      <td>...</td>\n",
       "    </tr>\n",
       "    <tr>\n",
       "      <th>2023-12-22</th>\n",
       "      <td>193.353287</td>\n",
       "      <td>142.720001</td>\n",
       "    </tr>\n",
       "    <tr>\n",
       "      <th>2023-12-26</th>\n",
       "      <td>192.803986</td>\n",
       "      <td>142.820007</td>\n",
       "    </tr>\n",
       "    <tr>\n",
       "      <th>2023-12-27</th>\n",
       "      <td>192.903839</td>\n",
       "      <td>141.440002</td>\n",
       "    </tr>\n",
       "    <tr>\n",
       "      <th>2023-12-28</th>\n",
       "      <td>193.333298</td>\n",
       "      <td>141.279999</td>\n",
       "    </tr>\n",
       "    <tr>\n",
       "      <th>2023-12-29</th>\n",
       "      <td>192.284637</td>\n",
       "      <td>140.929993</td>\n",
       "    </tr>\n",
       "  </tbody>\n",
       "</table>\n",
       "<p>250 rows × 2 columns</p>\n",
       "</div>"
      ],
      "text/plain": [
       "Ticker            AAPL        GOOG\n",
       "Date                              \n",
       "2023-01-03  124.216301   89.699997\n",
       "2023-01-04  125.497498   88.709999\n",
       "2023-01-05  124.166641   86.769997\n",
       "2023-01-06  128.735229   88.160004\n",
       "2023-01-09  129.261612   88.800003\n",
       "...                ...         ...\n",
       "2023-12-22  193.353287  142.720001\n",
       "2023-12-26  192.803986  142.820007\n",
       "2023-12-27  192.903839  141.440002\n",
       "2023-12-28  193.333298  141.279999\n",
       "2023-12-29  192.284637  140.929993\n",
       "\n",
       "[250 rows x 2 columns]"
      ]
     },
     "execution_count": 4,
     "metadata": {},
     "output_type": "execute_result"
    }
   ],
   "source": [
    "data['Adj Close']"
   ]
  },
  {
   "cell_type": "code",
   "execution_count": 21,
   "metadata": {},
   "outputs": [
    {
     "name": "stdout",
     "output_type": "stream",
     "text": [
      "Collecting fredapi\n",
      "  Downloading fredapi-0.5.1-py3-none-any.whl (11 kB)\n",
      "Requirement already satisfied: pandas in /Users/zacherychong/opt/anaconda3/lib/python3.9/site-packages (from fredapi) (1.4.2)\n",
      "Requirement already satisfied: python-dateutil>=2.8.1 in /Users/zacherychong/opt/anaconda3/lib/python3.9/site-packages (from pandas->fredapi) (2.8.2)\n",
      "Requirement already satisfied: pytz>=2020.1 in /Users/zacherychong/opt/anaconda3/lib/python3.9/site-packages (from pandas->fredapi) (2023.3.post1)\n",
      "Requirement already satisfied: numpy>=1.18.5 in /Users/zacherychong/opt/anaconda3/lib/python3.9/site-packages (from pandas->fredapi) (1.21.5)\n",
      "Requirement already satisfied: six>=1.5 in /Users/zacherychong/opt/anaconda3/lib/python3.9/site-packages (from python-dateutil>=2.8.1->pandas->fredapi) (1.16.0)\n",
      "Installing collected packages: fredapi\n",
      "Successfully installed fredapi-0.5.1\n",
      "Note: you may need to restart the kernel to use updated packages.\n"
     ]
    }
   ],
   "source": [
    "pip install fredapi"
   ]
  },
  {
   "cell_type": "markdown",
   "metadata": {},
   "source": []
  },
  {
   "cell_type": "code",
   "execution_count": 13,
   "metadata": {},
   "outputs": [],
   "source": [
    "import yfinance as yf\n",
    "import pandas as pd\n",
    "from datetime import datetime, timedelta\n",
    "from scipy.optimize import minimize\n",
    "import numpy as np\n"
   ]
  },
  {
   "cell_type": "code",
   "execution_count": 37,
   "metadata": {},
   "outputs": [],
   "source": [
    "#help me convert this to an input function\n",
    "tickers = ['SPY','BND','GLD','QQQ','VTI']\n",
    "end_date = datetime.today()\n",
    "start_date = end_date - timedelta(days = 5*365)"
   ]
  },
  {
   "cell_type": "code",
   "execution_count": 7,
   "metadata": {},
   "outputs": [
    {
     "name": "stderr",
     "output_type": "stream",
     "text": [
      "[*********************100%%**********************]  1 of 1 completed\n",
      "[*********************100%%**********************]  1 of 1 completed\n",
      "[*********************100%%**********************]  1 of 1 completed\n",
      "[*********************100%%**********************]  1 of 1 completed\n",
      "[*********************100%%**********************]  1 of 1 completed\n"
     ]
    }
   ],
   "source": [
    "adj_close_df = pd.DataFrame()\n",
    "for ticker in tickers:\n",
    "    data = yf.download(ticker, start = start_date,end = end_date)\n",
    "    adj_close_df[ticker] = data['Adj Close']"
   ]
  },
  {
   "cell_type": "code",
   "execution_count": 8,
   "metadata": {},
   "outputs": [
    {
     "name": "stdout",
     "output_type": "stream",
     "text": [
      "                   SPY        BND         GLD         QQQ         VTI\n",
      "Date                                                                 \n",
      "2019-03-01  258.425690  69.929764  121.879997  168.742828  133.082657\n",
      "2019-03-04  257.485626  70.053085  121.559998  168.771835  132.465286\n",
      "2019-03-05  257.135376  70.105934  121.720001  168.897629  132.216492\n",
      "2019-03-06  255.577972  70.194008  121.610001  167.939713  131.212051\n",
      "2019-03-07  253.439957  70.396606  121.510002  165.878662  130.189209\n",
      "...                ...        ...         ...         ...         ...\n",
      "2024-02-21  497.209991  71.889999  187.479996  425.609985  246.949997\n",
      "2024-02-22  507.500000  71.919998  187.559998  438.070007  251.830002\n",
      "2024-02-23  507.850006  72.180000  188.619995  436.779999  252.000000\n",
      "2024-02-26  505.989990  72.050003  188.199997  436.549988  251.240005\n",
      "2024-02-27  506.070007  72.071999  188.410004  437.364990  251.600006\n",
      "\n",
      "[1257 rows x 5 columns]\n"
     ]
    }
   ],
   "source": [
    "print(adj_close_df)"
   ]
  },
  {
   "cell_type": "code",
   "execution_count": 14,
   "metadata": {},
   "outputs": [],
   "source": [
    "log_returns = np.log(adj_close_df/adj_close_df.shift(1))\n",
    "log_returns = log_returns.dropna()\n"
   ]
  },
  {
   "cell_type": "code",
   "execution_count": 16,
   "metadata": {},
   "outputs": [
    {
     "name": "stdout",
     "output_type": "stream",
     "text": [
      "          SPY       BND       GLD       QQQ       VTI\n",
      "SPY  0.044245  0.002759  0.003597  0.049816  0.045310\n",
      "BND  0.002759  0.004679  0.003896  0.003375  0.002939\n",
      "GLD  0.003597  0.003896  0.022310  0.004850  0.003778\n",
      "QQQ  0.049816  0.003375  0.004850  0.064647  0.050966\n",
      "VTI  0.045310  0.002939  0.003778  0.050966  0.046777\n"
     ]
    }
   ],
   "source": [
    "#Covariance Matrix\n",
    "cov_matrix = log_returns.cov()*252\n",
    "print(cov_matrix)"
   ]
  },
  {
   "cell_type": "code",
   "execution_count": 17,
   "metadata": {},
   "outputs": [],
   "source": [
    "def standard_deviation (weights, cov_matrix):\n",
    "    variance = weights.T @ cov_matrix @ weights\n",
    "    return np.sqrt(variance)"
   ]
  },
  {
   "cell_type": "code",
   "execution_count": 18,
   "metadata": {},
   "outputs": [],
   "source": [
    "def expected_returns (weights, log_returns):\n",
    "    return np.sum(log_returns.mean()*weights)*252"
   ]
  },
  {
   "cell_type": "code",
   "execution_count": 24,
   "metadata": {},
   "outputs": [
    {
     "name": "stdout",
     "output_type": "stream",
     "text": [
      "0.0406\n"
     ]
    }
   ],
   "source": [
    "from fredapi import Fred\n",
    "fred = Fred(api_key='8e01919c368c8b27138da997db27d9ff')\n",
    "ten_year_treasury_rate = fred.get_series_latest_release('GS10')/100\n",
    "\n",
    "risk_free_rate = ten_year_treasury_rate.iloc[-1]\n",
    "print (risk_free_rate)"
   ]
  },
  {
   "cell_type": "code",
   "execution_count": 19,
   "metadata": {},
   "outputs": [],
   "source": [
    "def sharpe_ratio(weights, log_returns, cov_matrix, risk_free_rate):\n",
    "    return(expected_returns (weights, log_returns)- risk_free_rate) / standard_deviation(weights, cov_matrix)"
   ]
  },
  {
   "cell_type": "code",
   "execution_count": 28,
   "metadata": {},
   "outputs": [],
   "source": [
    "def neg_sharpe_ratio(weights, log_returns, cov_matrix, risk_free_rate):\n",
    "    return -sharpe_ratio(weights, log_returns, cov_matrix, risk_free_rate)"
   ]
  },
  {
   "cell_type": "code",
   "execution_count": 27,
   "metadata": {},
   "outputs": [],
   "source": [
    "constraints = {'type': 'eq', 'fun': lambda weights: np.sum(weights)-1}\n",
    "bounds = [(0,0.5) for _ in range(len(tickers))]"
   ]
  },
  {
   "cell_type": "code",
   "execution_count": 30,
   "metadata": {},
   "outputs": [
    {
     "name": "stdout",
     "output_type": "stream",
     "text": [
      "[0.2 0.2 0.2 0.2 0.2]\n"
     ]
    }
   ],
   "source": [
    "initial_weights = np.array([1/len(tickers)]*len(tickers))\n",
    "print(initial_weights)"
   ]
  },
  {
   "cell_type": "code",
   "execution_count": 31,
   "metadata": {},
   "outputs": [],
   "source": [
    "optimise_results = minimize(neg_sharpe_ratio,initial_weights, args=(log_returns, cov_matrix, risk_free_rate), method='SLSQP', constraints=constraints, bounds=bounds)"
   ]
  },
  {
   "cell_type": "code",
   "execution_count": 32,
   "metadata": {},
   "outputs": [],
   "source": [
    "optimal_weights= optimise_results.x"
   ]
  },
  {
   "cell_type": "code",
   "execution_count": 36,
   "metadata": {},
   "outputs": [
    {
     "name": "stdout",
     "output_type": "stream",
     "text": [
      "Optimal Weights:\n",
      "SPY: 0.0000\n",
      "BND: 0.0000\n",
      "GLD: 0.5000\n",
      "QQQ: 0.5000\n",
      "VTI: 0.0000\n",
      "\n",
      "Expected Annual Return: 0.1392\n",
      "Expected Volatility: 0.1554\n",
      "Sharpe Ratio: 0.6345\n"
     ]
    }
   ],
   "source": [
    "print(\"Optimal Weights:\")\n",
    "for ticker, weight in zip(tickers, optimal_weights):\n",
    "    print(f\"{ticker}: {weight:.4f}\")\n",
    "\n",
    "print()\n",
    "\n",
    "optimal_portfolio_return = expected_returns(optimal_weights, log_returns)\n",
    "optimal_portfolio_volatility = standard_deviation(optimal_weights, cov_matrix)\n",
    "optimal_sharpe_ratio = sharpe_ratio(optimal_weights, log_returns, cov_matrix, risk_free_rate)\n",
    "\n",
    "print(f\"Expected Annual Return: {optimal_portfolio_return:.4f}\")\n",
    "print(f\"Expected Volatility: {optimal_portfolio_volatility:.4f}\")\n",
    "print(f\"Sharpe Ratio: {optimal_sharpe_ratio:.4f}\")"
   ]
  },
  {
   "cell_type": "code",
   "execution_count": null,
   "metadata": {},
   "outputs": [],
   "source": []
  }
 ],
 "metadata": {
  "kernelspec": {
   "display_name": "Python 3",
   "language": "python",
   "name": "python3"
  },
  "language_info": {
   "codemirror_mode": {
    "name": "ipython",
    "version": 3
   },
   "file_extension": ".py",
   "mimetype": "text/x-python",
   "name": "python",
   "nbconvert_exporter": "python",
   "pygments_lexer": "ipython3",
   "version": "3.9.0"
  }
 },
 "nbformat": 4,
 "nbformat_minor": 2
}
